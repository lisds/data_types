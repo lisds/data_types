{
 "cells": [
  {
   "cell_type": "markdown",
   "id": "dd7eb669",
   "metadata": {},
   "source": [
    "# Data, types, strings\n",
    "\n",
    "Here we explore types of things, and converting between them."
   ]
  },
  {
   "cell_type": "code",
   "execution_count": null,
   "id": "1122b201",
   "metadata": {},
   "outputs": [],
   "source": [
    "# Run this cell to set up the notebook, but please don't change it.\n",
    "# These lines load the tests.\n",
    "from client.api.notebook import Notebook\n",
    "ok = Notebook('data_types.ok')"
   ]
  },
  {
   "cell_type": "markdown",
   "id": "c77a88d7",
   "metadata": {},
   "source": [
    "This is an integer (counting number):"
   ]
  },
  {
   "cell_type": "code",
   "execution_count": null,
   "id": "4ba742ae",
   "metadata": {},
   "outputs": [],
   "source": [
    "# Run this cell\n",
    "a = 10"
   ]
  },
  {
   "cell_type": "markdown",
   "id": "b60b38d4",
   "metadata": {},
   "source": [
    "Use `type` to confirm that this is a value of `int` type:"
   ]
  },
  {
   "cell_type": "code",
   "execution_count": null,
   "id": "f1b9d922",
   "metadata": {},
   "outputs": [],
   "source": [
    "..."
   ]
  },
  {
   "cell_type": "code",
   "execution_count": null,
   "id": "97b3618f",
   "metadata": {},
   "outputs": [],
   "source": [
    "_ = ok.grade('q_type_int')"
   ]
  },
  {
   "cell_type": "markdown",
   "id": "c19f3923",
   "metadata": {},
   "source": [
    "This is a floating point number."
   ]
  },
  {
   "cell_type": "code",
   "execution_count": null,
   "id": "efc2ff45",
   "metadata": {},
   "outputs": [],
   "source": [
    "b = 1.1"
   ]
  },
  {
   "cell_type": "markdown",
   "id": "7881a399",
   "metadata": {},
   "source": [
    "Use `type` to confirm that this is a value of `float` type:"
   ]
  },
  {
   "cell_type": "code",
   "execution_count": null,
   "id": "6f75b7d2",
   "metadata": {},
   "outputs": [],
   "source": [
    "..."
   ]
  },
  {
   "cell_type": "code",
   "execution_count": null,
   "id": "fe84a3ba",
   "metadata": {},
   "outputs": [],
   "source": [
    "_ = ok.grade('q_type_float')"
   ]
  },
  {
   "cell_type": "markdown",
   "id": "01bdcef2",
   "metadata": {},
   "source": [
    "This is a string:"
   ]
  },
  {
   "cell_type": "code",
   "execution_count": null,
   "id": "62ffb032",
   "metadata": {},
   "outputs": [],
   "source": [
    "c = \"some text\""
   ]
  },
  {
   "cell_type": "markdown",
   "id": "87dc4aaa",
   "metadata": {},
   "source": [
    "Use `type` to confirm that this is a value of `str` type:"
   ]
  },
  {
   "cell_type": "code",
   "execution_count": null,
   "id": "4d1c9a0b",
   "metadata": {},
   "outputs": [],
   "source": [
    "..."
   ]
  },
  {
   "cell_type": "code",
   "execution_count": null,
   "id": "d4166181",
   "metadata": {},
   "outputs": [],
   "source": [
    "_ = ok.grade('q_type_string')"
   ]
  },
  {
   "cell_type": "markdown",
   "id": "6f225975",
   "metadata": {},
   "source": [
    "Show what you get when you use the 'float' function to convert the value in `a` into a float."
   ]
  },
  {
   "cell_type": "code",
   "execution_count": null,
   "id": "9b7e72ce",
   "metadata": {},
   "outputs": [],
   "source": [
    "..."
   ]
  },
  {
   "cell_type": "markdown",
   "id": "0932d35f",
   "metadata": {},
   "source": [
    "What happens if you use `int` to convert `b` to an integer?"
   ]
  },
  {
   "cell_type": "code",
   "execution_count": null,
   "id": "015349e9",
   "metadata": {},
   "outputs": [],
   "source": [
    "..."
   ]
  },
  {
   "cell_type": "markdown",
   "id": "f3871b7d",
   "metadata": {},
   "source": [
    "What happens if you use `str` to convert `b` to an string?"
   ]
  },
  {
   "cell_type": "code",
   "execution_count": null,
   "id": "34f5c735",
   "metadata": {},
   "outputs": [],
   "source": [
    "..."
   ]
  },
  {
   "cell_type": "markdown",
   "id": "8ab4fc79",
   "metadata": {},
   "source": [
    "What happens if you use `float` to convert `c` into a floating point value?"
   ]
  },
  {
   "cell_type": "code",
   "execution_count": null,
   "id": "1073b863",
   "metadata": {
    "tags": [
     "raises-exception"
    ]
   },
   "outputs": [],
   "source": [
    "..."
   ]
  },
  {
   "cell_type": "markdown",
   "id": "954aaa17",
   "metadata": {},
   "source": [
    "Now, if you have time - make new code cells below and try the following\n",
    "operations.  To make a new cell, go to the \"Insert\" item on the menu, and\n",
    "choose \"Insert Cell Below\" (or \"Above\").\n",
    "\n",
    "Try these operations in a new cell each.   What do you see?\n",
    "\n",
    "* `a + b`\n",
    "* `a + c`\n",
    "* `b + c`\n",
    "\n",
    "Now try converting `a`, `b`, `c` to Boolean (True / False) values with the\n",
    "`bool` function.\n",
    "\n",
    "Try converting a Boolean value to `int`, `float` and `str`."
   ]
  }
 ],
 "metadata": {
  "jupytext": {
   "split_at_heading": true,
   "text_representation": {
    "extension": ".Rmd",
    "format_name": "rmarkdown",
    "format_version": "1.2",
    "jupytext_version": "1.10.3"
   }
  },
  "kernelspec": {
   "display_name": "Python 3 (ipykernel)",
   "language": "python",
   "name": "python3"
  }
 },
 "nbformat": 4,
 "nbformat_minor": 5
}
