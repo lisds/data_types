{
 "cells": [
  {
   "cell_type": "markdown",
   "id": "ce496f80",
   "metadata": {},
   "source": [
    "# Data, types, strings\n",
    "\n",
    "Here we explore types of things, and converting between them."
   ]
  },
  {
   "cell_type": "code",
   "execution_count": 1,
   "id": "41d0232e",
   "metadata": {
    "execution": {
     "iopub.execute_input": "2022-11-16T21:41:36.100814Z",
     "iopub.status.busy": "2022-11-16T21:41:36.100419Z",
     "iopub.status.idle": "2022-11-16T21:41:36.186965Z",
     "shell.execute_reply": "2022-11-16T21:41:36.186616Z"
    }
   },
   "outputs": [],
   "source": [
    "# Run this cell to set up the notebook, but please don't change it.\n",
    "# These lines load the tests.\n",
    "from client.api.notebook import Notebook\n",
    "ok = Notebook('data_types.ok')"
   ]
  },
  {
   "cell_type": "markdown",
   "id": "b37d36a3",
   "metadata": {},
   "source": [
    "This is an integer (counting number):"
   ]
  },
  {
   "cell_type": "code",
   "execution_count": 2,
   "id": "9a91bd83",
   "metadata": {
    "execution": {
     "iopub.execute_input": "2022-11-16T21:41:36.189255Z",
     "iopub.status.busy": "2022-11-16T21:41:36.189099Z",
     "iopub.status.idle": "2022-11-16T21:41:36.191142Z",
     "shell.execute_reply": "2022-11-16T21:41:36.190809Z"
    }
   },
   "outputs": [],
   "source": [
    "# Run this cell\n",
    "a = 10"
   ]
  },
  {
   "cell_type": "markdown",
   "id": "29015d02",
   "metadata": {},
   "source": [
    "Use `type` to confirm that this is a value of `int` type:"
   ]
  },
  {
   "cell_type": "code",
   "execution_count": 3,
   "id": "32bd03bd",
   "metadata": {
    "execution": {
     "iopub.execute_input": "2022-11-16T21:41:36.193122Z",
     "iopub.status.busy": "2022-11-16T21:41:36.192988Z",
     "iopub.status.idle": "2022-11-16T21:41:36.198507Z",
     "shell.execute_reply": "2022-11-16T21:41:36.198166Z"
    }
   },
   "outputs": [],
   "source": [
    "# Your code here.  It should use type to display the type of the value in \"a\"\n",
    "type(a)"
   ]
  },
  {
   "cell_type": "code",
   "execution_count": 4,
   "id": "b22ded94",
   "metadata": {
    "execution": {
     "iopub.execute_input": "2022-11-16T21:41:36.200436Z",
     "iopub.status.busy": "2022-11-16T21:41:36.200292Z",
     "iopub.status.idle": "2022-11-16T21:41:36.253633Z",
     "shell.execute_reply": "2022-11-16T21:41:36.253291Z"
    }
   },
   "outputs": [],
   "source": [
    "_ = ok.grade('q_type_int')"
   ]
  },
  {
   "cell_type": "markdown",
   "id": "4f6be087",
   "metadata": {},
   "source": [
    "This is a floating point number."
   ]
  },
  {
   "cell_type": "code",
   "execution_count": 5,
   "id": "4688e76e",
   "metadata": {
    "execution": {
     "iopub.execute_input": "2022-11-16T21:41:36.257476Z",
     "iopub.status.busy": "2022-11-16T21:41:36.257336Z",
     "iopub.status.idle": "2022-11-16T21:41:36.259247Z",
     "shell.execute_reply": "2022-11-16T21:41:36.258919Z"
    }
   },
   "outputs": [],
   "source": [
    "b = 1.1"
   ]
  },
  {
   "cell_type": "markdown",
   "id": "f32f89ea",
   "metadata": {},
   "source": [
    "Use `type` to confirm that this is a value of `float` type:"
   ]
  },
  {
   "cell_type": "code",
   "execution_count": 6,
   "id": "c172e658",
   "metadata": {
    "execution": {
     "iopub.execute_input": "2022-11-16T21:41:36.261117Z",
     "iopub.status.busy": "2022-11-16T21:41:36.260984Z",
     "iopub.status.idle": "2022-11-16T21:41:36.263417Z",
     "shell.execute_reply": "2022-11-16T21:41:36.263122Z"
    }
   },
   "outputs": [],
   "source": [
    "# Your code here.  It should use type to display the type of the value in \"b\"\n",
    "type(b)"
   ]
  },
  {
   "cell_type": "code",
   "execution_count": 7,
   "id": "164d488d",
   "metadata": {
    "execution": {
     "iopub.execute_input": "2022-11-16T21:41:36.265235Z",
     "iopub.status.busy": "2022-11-16T21:41:36.265100Z",
     "iopub.status.idle": "2022-11-16T21:41:36.273794Z",
     "shell.execute_reply": "2022-11-16T21:41:36.273456Z"
    }
   },
   "outputs": [],
   "source": [
    "_ = ok.grade('q_type_float')"
   ]
  },
  {
   "cell_type": "markdown",
   "id": "99b93d05",
   "metadata": {},
   "source": [
    "This is a string:"
   ]
  },
  {
   "cell_type": "code",
   "execution_count": 8,
   "id": "bb9695c9",
   "metadata": {
    "execution": {
     "iopub.execute_input": "2022-11-16T21:41:36.277520Z",
     "iopub.status.busy": "2022-11-16T21:41:36.277381Z",
     "iopub.status.idle": "2022-11-16T21:41:36.279365Z",
     "shell.execute_reply": "2022-11-16T21:41:36.279046Z"
    }
   },
   "outputs": [],
   "source": [
    "c = \"some text\""
   ]
  },
  {
   "cell_type": "markdown",
   "id": "83a17ae4",
   "metadata": {},
   "source": [
    "Use `type` to confirm that this is a value of `str` type:"
   ]
  },
  {
   "cell_type": "code",
   "execution_count": 9,
   "id": "5096cb3f",
   "metadata": {
    "execution": {
     "iopub.execute_input": "2022-11-16T21:41:36.281165Z",
     "iopub.status.busy": "2022-11-16T21:41:36.281024Z",
     "iopub.status.idle": "2022-11-16T21:41:36.283421Z",
     "shell.execute_reply": "2022-11-16T21:41:36.283087Z"
    }
   },
   "outputs": [],
   "source": [
    "# Your code here.  It should use type to display the type of the value in \"c\"\n",
    "type(c)"
   ]
  },
  {
   "cell_type": "code",
   "execution_count": 10,
   "id": "93dc1f7c",
   "metadata": {
    "execution": {
     "iopub.execute_input": "2022-11-16T21:41:36.285200Z",
     "iopub.status.busy": "2022-11-16T21:41:36.285061Z",
     "iopub.status.idle": "2022-11-16T21:41:36.293649Z",
     "shell.execute_reply": "2022-11-16T21:41:36.293310Z"
    }
   },
   "outputs": [],
   "source": [
    "_ = ok.grade('q_type_string')"
   ]
  },
  {
   "cell_type": "markdown",
   "id": "5075a795",
   "metadata": {},
   "source": [
    "Show what you get when you use the 'float' function to convert the value in `a` into a float."
   ]
  },
  {
   "cell_type": "code",
   "execution_count": 11,
   "id": "38d32b71",
   "metadata": {
    "execution": {
     "iopub.execute_input": "2022-11-16T21:41:36.297426Z",
     "iopub.status.busy": "2022-11-16T21:41:36.297282Z",
     "iopub.status.idle": "2022-11-16T21:41:36.299627Z",
     "shell.execute_reply": "2022-11-16T21:41:36.299351Z"
    }
   },
   "outputs": [],
   "source": [
    "# Convert \"a\" into a float, show the result.\n",
    "float(a)"
   ]
  },
  {
   "cell_type": "markdown",
   "id": "ec0889c5",
   "metadata": {},
   "source": [
    "What happens if you use `int` to convert `b` to an integer?"
   ]
  },
  {
   "cell_type": "code",
   "execution_count": 12,
   "id": "42cdaaf2",
   "metadata": {
    "execution": {
     "iopub.execute_input": "2022-11-16T21:41:36.301513Z",
     "iopub.status.busy": "2022-11-16T21:41:36.301370Z",
     "iopub.status.idle": "2022-11-16T21:41:36.303708Z",
     "shell.execute_reply": "2022-11-16T21:41:36.303386Z"
    }
   },
   "outputs": [],
   "source": [
    "# Convert \"b\" into an integer, show the result\n",
    "int(b)"
   ]
  },
  {
   "cell_type": "markdown",
   "id": "b5ad0b88",
   "metadata": {},
   "source": [
    "What happens if you use `str` to convert `b` to an string?"
   ]
  },
  {
   "cell_type": "code",
   "execution_count": 13,
   "id": "1af26f02",
   "metadata": {
    "execution": {
     "iopub.execute_input": "2022-11-16T21:41:36.305530Z",
     "iopub.status.busy": "2022-11-16T21:41:36.305396Z",
     "iopub.status.idle": "2022-11-16T21:41:36.307747Z",
     "shell.execute_reply": "2022-11-16T21:41:36.307438Z"
    }
   },
   "outputs": [],
   "source": [
    "# Convert \"b\" into an string, show the result\n",
    "str(b)"
   ]
  },
  {
   "cell_type": "markdown",
   "id": "25b47a49",
   "metadata": {},
   "source": [
    "What happens if you use `float` to convert `c` into a floating point value?"
   ]
  },
  {
   "cell_type": "code",
   "execution_count": 14,
   "id": "cdc5f743",
   "metadata": {
    "execution": {
     "iopub.execute_input": "2022-11-16T21:41:36.309630Z",
     "iopub.status.busy": "2022-11-16T21:41:36.309489Z",
     "iopub.status.idle": "2022-11-16T21:41:36.613880Z",
     "shell.execute_reply": "2022-11-16T21:41:36.613519Z"
    },
    "tags": [
     "raises-exception"
    ]
   },
   "outputs": [],
   "source": [
    "# Convert \"c\" into a floating point value\n",
    "float(c)"
   ]
  },
  {
   "cell_type": "markdown",
   "id": "ab54a904",
   "metadata": {},
   "source": [
    "Now, if you have time - make new code cells below and try the following\n",
    "operations.  To make a new cell, go to the \"Insert\" item on the menu, and\n",
    "choose \"Insert Cell Below\" (or \"Above\").\n",
    "\n",
    "Try these operations in a new cell each.   What do you see?\n",
    "\n",
    "* `a + b`\n",
    "* `a + c`\n",
    "* `b + c`\n",
    "\n",
    "Now try converting `a`, `b`, `c` to Boolean (True / False) values with the\n",
    "`bool` function.\n",
    "\n",
    "Try converting a Boolean value to `int`, `float` and `str`."
   ]
  }
 ],
 "metadata": {
  "jupytext": {
   "split_at_heading": true,
   "text_representation": {
    "extension": ".Rmd",
    "format_name": "rmarkdown",
    "format_version": "1.2",
    "jupytext_version": "1.10.3"
   }
  },
  "kernelspec": {
   "display_name": "Python 3 (ipykernel)",
   "language": "python",
   "name": "python3"
  },
  "language_info": {
   "codemirror_mode": {
    "name": "ipython",
    "version": 3
   },
   "file_extension": ".py",
   "mimetype": "text/x-python",
   "name": "python",
   "nbconvert_exporter": "python",
   "pygments_lexer": "ipython3",
   "version": "3.10.7"
  }
 },
 "nbformat": 4,
 "nbformat_minor": 5
}
